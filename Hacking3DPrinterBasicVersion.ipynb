{
 "cells": [
  {
   "cell_type": "code",
   "execution_count": null,
   "id": "064e5e4b",
   "metadata": {},
   "outputs": [],
   "source": [
    "# Install dependencies if needed\n",
    "\n",
    "!pip install ultralytics # Install image recognition module\n",
    "!pip install pyserial # Install serial port communication module\n",
    "!pip install opencv-python # Install another image recognition module\n",
    "!pip install pyserial # Install module used to communicate with 3D printer\n",
    "!pip install matplotlib # Install module for making plots"
   ]
  },
  {
   "cell_type": "code",
   "execution_count": null,
   "id": "9789a598",
   "metadata": {},
   "outputs": [],
   "source": [
    "# Import modules\n",
    "from ultralytics import YOLO\n",
    "import time\n",
    "import serial\n",
    "import cv2\n",
    "from matplotlib import pyplot as plt"
   ]
  },
  {
   "cell_type": "code",
   "execution_count": null,
   "id": "3e72fca0",
   "metadata": {},
   "outputs": [],
   "source": [
    "model = YOLO(\"yolov8m.pt\") # Load trainded object recognition model"
   ]
  },
  {
   "cell_type": "code",
   "execution_count": null,
   "id": "04e56125",
   "metadata": {},
   "outputs": [],
   "source": [
    "# Connect 3D printer to the computer using a USB cable\n",
    "# The ID of the serial port use for this connection can be found by typing \"ls /dev/tty*\" in the terminal\n",
    "# By doing this before and after connecting the 3D printer to the computer you can find the port connecting them\n",
    "# The port address should be something like \"/dev/tty.usbserial-14140\"\n",
    "# In a PC the port used can be found by opening \"Device Manager\" and clicking \"Ports\""
   ]
  },
  {
   "cell_type": "code",
   "execution_count": null,
   "id": "f78bdae9",
   "metadata": {},
   "outputs": [],
   "source": [
    "# Connect the USB camera to the computer using the correcponding USB cable"
   ]
  },
  {
   "cell_type": "code",
   "execution_count": null,
   "id": "0f5057c5",
   "metadata": {},
   "outputs": [],
   "source": [
    "# To send instructions to the printer first stablish the connection\n",
    "ser=serial.Serial(\"/dev/tty.usbserial-2120\", 115200)\n",
    "# Now you can send any gcode instruction to directly control the 3d printer from your computer"
   ]
  },
  {
   "cell_type": "code",
   "execution_count": null,
   "id": "42e346b2",
   "metadata": {},
   "outputs": [],
   "source": [
    "# For example to home the motors you can send the intruction \"G28\"\n",
    "ser.write(str.encode(\"G28\\r\\n\"))"
   ]
  },
  {
   "cell_type": "code",
   "execution_count": null,
   "id": "94102627",
   "metadata": {},
   "outputs": [],
   "source": [
    "# Move approximately to the middle\n",
    "ser.write(str.encode(\"G1 X110 Y80 Z30\\r\\n\"))"
   ]
  },
  {
   "cell_type": "code",
   "execution_count": null,
   "id": "35de805a",
   "metadata": {},
   "outputs": [],
   "source": [
    "# After connecting a device (e.g., a laser) to an available port \n",
    "# in the 3D printer's motherboard (fan, head and bed heating, etc.),\n",
    "# you can control these devices directly from your computer.\n",
    "\n",
    "# To send a 0.5 second laser pulse at maximum power \n",
    "ser.write(str.encode(\"M107\\r\\n\")) # Turn off laser\n",
    "time.sleep(0.1) # Pause\n",
    "ser.write(str.encode(\"M106 S250\\r\\n\")) # Turn on laser\n",
    "time.sleep(0.5) # Pause\n",
    "ser.write(str.encode(\"M107\\r\\n\")) # Turn off laser"
   ]
  },
  {
   "cell_type": "code",
   "execution_count": null,
   "id": "7059f0ec",
   "metadata": {},
   "outputs": [],
   "source": [
    "# To connect the camera \n",
    "camera = cv2.VideoCapture(1) # Connect to USB camera. You may need to change the index to find the desired camera"
   ]
  },
  {
   "cell_type": "code",
   "execution_count": null,
   "id": "1ab98d70",
   "metadata": {},
   "outputs": [],
   "source": [
    "# To capture a frame\n",
    "ret, frame = camera.read() "
   ]
  },
  {
   "cell_type": "code",
   "execution_count": null,
   "id": "cdbb3bb2",
   "metadata": {},
   "outputs": [],
   "source": [
    "# To display the captured image using Jupyter\n",
    "plt.imshow(frame) # Show image\n",
    "plt.title('Your first image')\n",
    "plt.show()"
   ]
  },
  {
   "cell_type": "code",
   "execution_count": null,
   "id": "bc5f3fa5",
   "metadata": {},
   "outputs": [],
   "source": [
    "# To identify objects in the image\n",
    "results = model.predict(frame) "
   ]
  },
  {
   "cell_type": "code",
   "execution_count": null,
   "id": "79a1d0e2",
   "metadata": {},
   "outputs": [],
   "source": [
    "# This displays the results\n",
    " \n",
    "result=results[0]\n",
    "org = (50, 50) # Set features of box around objects\n",
    "font = cv2.FONT_HERSHEY_SIMPLEX\n",
    "fontScale = 1\n",
    "color = (255, 0, 0)\n",
    "thickness = 2\n",
    "for box in result.boxes: # Identify objects in image\n",
    "  class_id = result.names[box.cls[0].item()] # Name of the object\n",
    "  cords = box.xyxy[0].tolist()\n",
    "  cords = [round(x) for x in cords]\n",
    "  conf = round(box.conf[0].item(), 2) # Confidence in the prediction\n",
    "  img = cv2.rectangle(frame, (cords[0], cords[1]), (cords[2], cords[3]), (0, 255, 0), 3)\n",
    "  img=cv2.putText(img,class_id,(cords[0],cords[1]), font, fontScale, color, thickness, cv2.LINE_AA)\n",
    "  print(cords)\n",
    "plt.imshow(img) # Show image\n",
    "plt.show()\n",
    "time.sleep(5)\n",
    "camera.release() # Close camera"
   ]
  },
  {
   "cell_type": "code",
   "execution_count": null,
   "id": "49066273",
   "metadata": {},
   "outputs": [],
   "source": [
    "# This example homes the 3d printer, moves the camera to a selected postion, and fires the laser\n",
    "\n",
    "ser=serial.Serial(\"/dev/tty.usbserial-14140\", 115200) # Connect\n",
    "ser.write(str.encode(\"M84 X Y Z S12000\\r\\n\")) # Keep motors engaged\n",
    "ser.write(str.encode(\"M92 X160 Y160 Z800\\r\\n\")) # Set motor speed\n",
    "ser.write(str.encode(\"G28\\r\\n\")) # Home device\n",
    "\n",
    "ser.write(str.encode(\"M400\\r\\n\")) # Wait until finish moving\n",
    "ser.write(str.encode(\"M118 E1 Iamready\\r\\n\"))  \n",
    "Tcat = \"\"\n",
    "while \"Iamready\" not in Tcat:\n",
    "    T = ser.read() \n",
    "    Tcat += T.decode()\n",
    "    Tcat\n",
    "    \n",
    "ser.write(str.encode(\"G1 Z30 X70 Y80\\r\\n\")) # Move to specified position \n",
    "\n",
    "ser.write(str.encode(\"M400\\r\\n\")) # Wait until finish moving\n",
    "ser.write(str.encode(\"M118 E1 Iamready\\r\\n\"))  \n",
    "Tcat = \"\"\n",
    "while \"Iamready\" not in Tcat:\n",
    "    T = ser.read() \n",
    "    Tcat += T.decode()\n",
    "    Tcat\n",
    "ser.write(str.encode(\"M107\\r\\n\")) # Turn off laser\n",
    "time.sleep(0.1)\n",
    "ser.write(str.encode(\"M106 S250\\r\\n\")) # Turn on laser\n",
    "time.sleep(0.5)\n",
    "ser.write(str.encode(\"M107\\r\\n\")) # Turn off laser"
   ]
  },
  {
   "cell_type": "code",
   "execution_count": null,
   "id": "9f2cae36",
   "metadata": {},
   "outputs": [],
   "source": []
  }
 ],
 "metadata": {
  "kernelspec": {
   "display_name": "Python 3 (ipykernel)",
   "language": "python",
   "name": "python3"
  },
  "language_info": {
   "codemirror_mode": {
    "name": "ipython",
    "version": 3
   },
   "file_extension": ".py",
   "mimetype": "text/x-python",
   "name": "python",
   "nbconvert_exporter": "python",
   "pygments_lexer": "ipython3",
   "version": "3.9.12"
  }
 },
 "nbformat": 4,
 "nbformat_minor": 5
}
